{
  "nbformat": 4,
  "nbformat_minor": 0,
  "metadata": {
    "colab": {
      "provenance": [],
      "authorship_tag": "ABX9TyOIVox52HVGCOOhFB4qUhrc",
      "include_colab_link": true
    },
    "kernelspec": {
      "name": "python3",
      "display_name": "Python 3"
    },
    "language_info": {
      "name": "python"
    }
  },
  "cells": [
    {
      "cell_type": "markdown",
      "metadata": {
        "id": "view-in-github",
        "colab_type": "text"
      },
      "source": [
        "<a href=\"https://colab.research.google.com/github/daphnearbex/python/blob/main/Adesivos.ipynb\" target=\"_parent\"><img src=\"https://colab.research.google.com/assets/colab-badge.svg\" alt=\"Open In Colab\"/></a>"
      ]
    },
    {
      "cell_type": "markdown",
      "source": [
        "Um conjunto de caixas é numerado em ordem crescente usando adesivos que contém algarismos individuais. Para se numerar a caixa de índice 10, são usados 2 adesivos, por exemplo. O orçamento para a aquisição de adesivos é limitado, então deseja-se conhecer número máximo de caixas que podem ser numerados, de 1 até um determinado valor, sem pular nenhum número na contagem, dado esse limite. Escreva um algoritmo que receba o número total de adesivos disponíveis e retorne o número máximo de caixas que podem ser numerados.\n"
      ],
      "metadata": {
        "id": "tuM4LNtFC7-_"
      }
    },
    {
      "cell_type": "code",
      "source": [
        "# Recebendo o número de adesivos disponíveis\n",
        "adesivo = input('Digite o número total de adesivos disponíveis: ')\n",
        "\n",
        "try:\n",
        "    total_adesivos = int(adesivo)\n",
        "    if total_adesivos < 0:\n",
        "        raise ValueError('Número negativo não é permitido')\n",
        "    num_caixas = 0\n",
        "    num_adesivos = 0\n",
        "    num_adesivos_rest = 0\n",
        "\n",
        "# Loop para encontrar o número máximo de caixas que podem ser numeradas\n",
        "    while num_adesivos < total_adesivos:\n",
        "        num_adesivos += 1\n",
        "        if len(str(num_caixas + 1)) == num_adesivos_rest + 1:\n",
        "            num_caixas += 1\n",
        "            num_adesivos_rest = 0\n",
        "        else:\n",
        "            num_adesivos_rest += 1\n",
        "\n",
        "# Imprimindo o número máximo de caixas que podem ser numeradas e número de adesivos que sobram\n",
        "    print(f'Número máximo de caixas que podem ser numeradas: {num_caixas}')\n",
        "    print(f'Número de adesivos que sobram: {num_adesivos_rest}')\n",
        "\n",
        "except ValueError as e:\n",
        "    print('Não é possível realizar a contagem.')\n",
        "    print(f'Motivo: {e}')"
      ],
      "metadata": {
        "id": "BSyk2XCJC7Jm"
      },
      "execution_count": null,
      "outputs": []
    }
  ]
}