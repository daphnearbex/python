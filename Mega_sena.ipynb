{
  "nbformat": 4,
  "nbformat_minor": 0,
  "metadata": {
    "colab": {
      "provenance": [],
      "authorship_tag": "ABX9TyNmkuxZfD/eC5jZ/txqFdxF",
      "include_colab_link": true
    },
    "kernelspec": {
      "name": "python3",
      "display_name": "Python 3"
    },
    "language_info": {
      "name": "python"
    }
  },
  "cells": [
    {
      "cell_type": "markdown",
      "metadata": {
        "id": "view-in-github",
        "colab_type": "text"
      },
      "source": [
        "<a href=\"https://colab.research.google.com/github/daphnearbex/python/blob/main/Mega_sena.ipynb\" target=\"_parent\"><img src=\"https://colab.research.google.com/assets/colab-badge.svg\" alt=\"Open In Colab\"/></a>"
      ]
    },
    {
      "cell_type": "markdown",
      "source": [
        "Escreva um código para realizar o sorteio da mega-sena, que consiste na seleção de seis números diferentes compreendidos entre 1 e 60. Retorne o array contendo os números sorteados.\n"
      ],
      "metadata": {
        "id": "bYimrhYzBJze"
      }
    },
    {
      "cell_type": "code",
      "execution_count": null,
      "metadata": {
        "id": "sNgOL-45BF5B"
      },
      "outputs": [],
      "source": [
        "# Importando as bibliotecas necessárias\n",
        "import random\n",
        "\n",
        "# Definindo a quantidade de números a serem sorteados\n",
        "numeros_a_sortear = 6\n",
        "\n",
        "# Definindo o intervalo do sorteio\n",
        "intervalo_inferior = 1\n",
        "intervalo_superior = 60\n",
        "\n",
        "# Lista vazia para armazenar os números sorteados\n",
        "numeros_sorteados = []\n",
        "\n",
        "# Começando o sorteio\n",
        "while len(numeros_sorteados) < numeros_a_sortear:\n",
        "    numero_sorteado = random.randint(intervalo_inferior, intervalo_superior)\n",
        "\n",
        "# Verificando se o número sorteado não é repetido\n",
        "    if numero_sorteado not in numeros_sorteados:\n",
        "        numeros_sorteados.append(numero_sorteado)\n",
        "\n",
        "# Lista de números sorteados\n",
        "numeros_sorteados.sort()\n",
        "\n",
        "# Imprimindo os números sorteados\n",
        "print(numeros_sorteados)"
      ]
    }
  ]
}