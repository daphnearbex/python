{
  "nbformat": 4,
  "nbformat_minor": 0,
  "metadata": {
    "colab": {
      "provenance": [],
      "authorship_tag": "ABX9TyN0Rh8pgd8i8aaG/XcQT99Z",
      "include_colab_link": true
    },
    "kernelspec": {
      "name": "python3",
      "display_name": "Python 3"
    },
    "language_info": {
      "name": "python"
    }
  },
  "cells": [
    {
      "cell_type": "markdown",
      "metadata": {
        "id": "view-in-github",
        "colab_type": "text"
      },
      "source": [
        "<a href=\"https://colab.research.google.com/github/daphnearbex/python/blob/main/Jogo_de_adivinha%C3%A7%C3%A3o.ipynb\" target=\"_parent\"><img src=\"https://colab.research.google.com/assets/colab-badge.svg\" alt=\"Open In Colab\"/></a>"
      ]
    },
    {
      "cell_type": "markdown",
      "source": [
        "Hora de programar um jogo! Seu código deve gerar um número aleatório dentro de um intervalo escolhido pelo próprio jogador, que servirá como resposta, e solicitar que o usuário tente adivinhá-lo. A partir da resposta do usuário:\n",
        "\n",
        "a. Se a tentativa do usuário for maior ou menor que a resposta, o jogo deve informar ao usuário e solicitar um novo chute.\n",
        "b. Se a resposta for correta, o jogo deve avisar ao usuário que ele acertou e informar o número de tentativas utilizadas."
      ],
      "metadata": {
        "id": "HiwNW0-mBw-K"
      }
    },
    {
      "cell_type": "code",
      "source": [
        "# Importando as bibliotecas necessárias\n",
        "import random\n",
        "\n",
        "# Título do programa\n",
        "print(\"*********************************\")\n",
        "print(\"Bem vindo ao jogo de Adivinhação!\")\n",
        "print(\"*********************************\")\n",
        "\n",
        "# Recebendo o intervalo escolhido pelo usuário\n",
        "minimo = int(input(\"Escolha o menor número do intervalo: \"))\n",
        "maximo = int(input(\"Escolha o maior número do intervalo: \"))\n",
        "\n",
        "# Verificando se o menor número do intervalo é menor que o maior número do intervalo\n",
        "\n",
        "if minimo >= maximo:\n",
        "    print(\"Intervalo inválido!\")\n",
        "else:\n",
        "\n",
        "# Gerando os números aleatórios\n",
        "\n",
        "    resposta = random.randint(minimo, maximo)\n",
        "    tentativas = 0\n",
        "\n",
        "# Loop que solicita que o usuário informe um número até que ele acerte a resposta\n",
        "\n",
        "    while True:\n",
        "        tentativas += 1\n",
        "        chute = int(input(\"Escolha um número: \"))\n",
        "        if chute < minimo or chute > maximo:\n",
        "            print(\"Número fora do intervalo!\")\n",
        "        elif chute == resposta:\n",
        "            print(\"Parabéns! Você acertou em\", tentativas, \"tentativas.\")\n",
        "            break\n",
        "        elif chute < resposta:\n",
        "            print(\"Tente outro número.\")\n",
        "        else:\n",
        "            print(\"Tente outro número.\")"
      ],
      "metadata": {
        "colab": {
          "base_uri": "https://localhost:8080/",
          "height": 312
        },
        "id": "BwTMLrYdBzF7",
        "outputId": "d7c18904-e24f-4992-f8bb-91776c5314ab"
      },
      "execution_count": 1,
      "outputs": [
        {
          "name": "stdout",
          "output_type": "stream",
          "text": [
            "*********************************\n",
            "Bem vindo ao jogo de Adivinhação!\n",
            "*********************************\n",
            "Escolha o menor número do intervalo: ´\n"
          ]
        },
        {
          "output_type": "error",
          "ename": "ValueError",
          "evalue": "ignored",
          "traceback": [
            "\u001b[0;31m---------------------------------------------------------------------------\u001b[0m",
            "\u001b[0;31mValueError\u001b[0m                                Traceback (most recent call last)",
            "\u001b[0;32m<ipython-input-1-383328daad7a>\u001b[0m in \u001b[0;36m<cell line: 10>\u001b[0;34m()\u001b[0m\n\u001b[1;32m      8\u001b[0m \u001b[0;34m\u001b[0m\u001b[0m\n\u001b[1;32m      9\u001b[0m \u001b[0;31m# Recebendo o intervalo escolhido pelo usuário\u001b[0m\u001b[0;34m\u001b[0m\u001b[0;34m\u001b[0m\u001b[0m\n\u001b[0;32m---> 10\u001b[0;31m \u001b[0mminimo\u001b[0m \u001b[0;34m=\u001b[0m \u001b[0mint\u001b[0m\u001b[0;34m(\u001b[0m\u001b[0minput\u001b[0m\u001b[0;34m(\u001b[0m\u001b[0;34m\"Escolha o menor número do intervalo: \"\u001b[0m\u001b[0;34m)\u001b[0m\u001b[0;34m)\u001b[0m\u001b[0;34m\u001b[0m\u001b[0;34m\u001b[0m\u001b[0m\n\u001b[0m\u001b[1;32m     11\u001b[0m \u001b[0mmaximo\u001b[0m \u001b[0;34m=\u001b[0m \u001b[0mint\u001b[0m\u001b[0;34m(\u001b[0m\u001b[0minput\u001b[0m\u001b[0;34m(\u001b[0m\u001b[0;34m\"Escolha o maior número do intervalo: \"\u001b[0m\u001b[0;34m)\u001b[0m\u001b[0;34m)\u001b[0m\u001b[0;34m\u001b[0m\u001b[0;34m\u001b[0m\u001b[0m\n\u001b[1;32m     12\u001b[0m \u001b[0;34m\u001b[0m\u001b[0m\n",
            "\u001b[0;31mValueError\u001b[0m: invalid literal for int() with base 10: '´'"
          ]
        }
      ]
    }
  ]
}